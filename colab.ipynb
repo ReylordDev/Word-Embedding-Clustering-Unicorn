{
 "cells": [
  {
   "cell_type": "code",
   "execution_count": null,
   "metadata": {},
   "outputs": [],
   "source": [
    "!rm -rf Word-Embedding-Clustering-Unicorn\n",
    "!git clone https://github.com/ReylordDev/Word-Embedding-Clustering-Unicorn\n"
   ]
  },
  {
   "cell_type": "code",
   "execution_count": null,
   "metadata": {},
   "outputs": [],
   "source": [
    "!cp Word-Embedding-Clustering-Unicorn/word* .\n",
    "!cp Word-Embedding-Clustering-Unicorn/test_input_file* .\n"
   ]
  },
  {
   "cell_type": "code",
   "execution_count": null,
   "metadata": {},
   "outputs": [],
   "source": [
    "%pip install sentence-transformers"
   ]
  },
  {
   "cell_type": "code",
   "execution_count": null,
   "metadata": {},
   "outputs": [],
   "source": [
    "!python word_embedding_clustering_with_conditions.py"
   ]
  }
 ],
 "metadata": {
  "language_info": {
   "name": "python"
  }
 },
 "nbformat": 4,
 "nbformat_minor": 2
}
