{
 "cells": [
  {
   "cell_type": "code",
   "execution_count": null,
   "metadata": {},
   "outputs": [],
   "source": [
    "%pip install sentence-transformers"
   ]
  },
  {
   "cell_type": "code",
   "execution_count": null,
   "metadata": {},
   "outputs": [],
   "source": [
    "!rm -rf Word-Embedding-Clustering-Unicorn\n",
    "!rm test*\n",
    "!rm word_*\n",
    "!git clone https://github.com/ReylordDev/Word-Embedding-Clustering-Unicorn\n"
   ]
  },
  {
   "cell_type": "code",
   "execution_count": null,
   "metadata": {},
   "outputs": [],
   "source": [
    "!cp Word-Embedding-Clustering-Unicorn/word* .\n",
    "!cp Word-Embedding-Clustering-Unicorn/test_input_file* ."
   ]
  },
  {
   "cell_type": "code",
   "execution_count": null,
   "metadata": {},
   "outputs": [],
   "source": [
    "!python word_embedding_clustering_with_conditions.py --input test_input_file_3.csv --num_clusters \"0=250,1=250\" --help_choose_num_clusters false"
   ]
  }
 ],
 "metadata": {
  "language_info": {
   "name": "python"
  }
 },
 "nbformat": 4,
 "nbformat_minor": 2
}
